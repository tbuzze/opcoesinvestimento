{
 "cells": [
  {
   "cell_type": "markdown",
   "metadata": {},
   "source": [
    "# Opções de Investimento"
   ]
  },
  {
   "cell_type": "markdown",
   "metadata": {},
   "source": [
    "- [SELIC](#SELIC)\n",
    "- [Cotação Dólar](#Cotação-Dólar)"
   ]
  },
  {
   "cell_type": "code",
   "execution_count": 1,
   "metadata": {
    "ExecuteTime": {
     "end_time": "2018-12-31T22:42:43.491127Z",
     "start_time": "2018-12-31T22:42:34.233174Z"
    }
   },
   "outputs": [],
   "source": [
    "#-- importando as libs\n",
    "from pandas_datareader.data import DataReader\n",
    "from datetime import date\n",
    "from bs4 import BeautifulSoup\n",
    "from urllib.request import urlopen\n",
    "import requests\n",
    "import pandas as pd\n",
    "import matplotlib.pyplot as plt\n",
    "import seaborn as sns"
   ]
  },
  {
   "cell_type": "code",
   "execution_count": null,
   "metadata": {
    "ExecuteTime": {
     "end_time": "2018-12-31T21:27:19.120496Z",
     "start_time": "2018-12-31T21:27:19.116498Z"
    }
   },
   "outputs": [],
   "source": [
    "#-- difinindo as datas de exportação\n",
    "start = date(2016, 1, 1)\n",
    "end = date(2019, 10, 23)"
   ]
  },
  {
   "cell_type": "code",
   "execution_count": null,
   "metadata": {
    "ExecuteTime": {
     "end_time": "2018-12-31T21:27:21.834698Z",
     "start_time": "2018-12-31T21:27:19.120496Z"
    }
   },
   "outputs": [],
   "source": [
    "ticker = 'GOOG'\n",
    "data_source = 'yahoo'\n",
    "stock_data_google = DataReader(ticker, data_source, start, end)"
   ]
  },
  {
   "cell_type": "code",
   "execution_count": null,
   "metadata": {
    "ExecuteTime": {
     "end_time": "2018-12-31T22:11:35.270584Z",
     "start_time": "2018-12-31T22:11:35.188496Z"
    }
   },
   "outputs": [],
   "source": [
    "stock_data_google.head()"
   ]
  },
  {
   "cell_type": "code",
   "execution_count": null,
   "metadata": {
    "ExecuteTime": {
     "end_time": "2018-12-31T22:11:37.100432Z",
     "start_time": "2018-12-31T22:11:36.081352Z"
    }
   },
   "outputs": [],
   "source": [
    "stock_data_google['Close'].plot(title=ticker)\n",
    "plt.show"
   ]
  },
  {
   "cell_type": "code",
   "execution_count": null,
   "metadata": {
    "ExecuteTime": {
     "end_time": "2018-12-31T22:11:39.008314Z",
     "start_time": "2018-12-31T22:11:37.246786Z"
    }
   },
   "outputs": [],
   "source": [
    "ticker = 'HGLG11.SA'\n",
    "data_source = 'yahoo'\n",
    "stock_data_cshg = DataReader(ticker, data_source, start, end)"
   ]
  },
  {
   "cell_type": "code",
   "execution_count": null,
   "metadata": {
    "ExecuteTime": {
     "end_time": "2018-12-31T22:11:39.251384Z",
     "start_time": "2018-12-31T22:11:39.011427Z"
    }
   },
   "outputs": [],
   "source": [
    "stock_data_cshg['Close'].plot(title=ticker)\n",
    "plt.show"
   ]
  },
  {
   "cell_type": "code",
   "execution_count": null,
   "metadata": {
    "ExecuteTime": {
     "end_time": "2018-12-31T22:11:41.672518Z",
     "start_time": "2018-12-31T22:11:39.251384Z"
    }
   },
   "outputs": [],
   "source": [
    "ticker = 'ITSA4.SA'\n",
    "data_source = 'yahoo'\n",
    "stock_data_itau = DataReader(ticker, data_source, start, end)"
   ]
  },
  {
   "cell_type": "code",
   "execution_count": null,
   "metadata": {
    "ExecuteTime": {
     "end_time": "2018-12-31T22:11:41.919653Z",
     "start_time": "2018-12-31T22:11:41.675712Z"
    }
   },
   "outputs": [],
   "source": [
    "stock_data_itau['Close'].plot(title=ticker)\n",
    "plt.show"
   ]
  },
  {
   "cell_type": "code",
   "execution_count": null,
   "metadata": {
    "ExecuteTime": {
     "end_time": "2018-12-31T22:11:43.662917Z",
     "start_time": "2018-12-31T22:11:41.923649Z"
    }
   },
   "outputs": [],
   "source": [
    "ticker = 'HGLG11.SA'\n",
    "data_source = 'yahoo'\n",
    "stock_data_hlgl = DataReader(ticker, data_source, start, end)"
   ]
  },
  {
   "cell_type": "code",
   "execution_count": null,
   "metadata": {
    "ExecuteTime": {
     "end_time": "2018-12-31T22:11:43.918971Z",
     "start_time": "2018-12-31T22:11:43.662917Z"
    }
   },
   "outputs": [],
   "source": [
    "stock_data_hlgl['Close'].plot(title=ticker)\n",
    "plt.show"
   ]
  },
  {
   "cell_type": "markdown",
   "metadata": {},
   "source": [
    "## SELIC"
   ]
  },
  {
   "cell_type": "code",
   "execution_count": null,
   "metadata": {
    "ExecuteTime": {
     "end_time": "2018-12-31T22:11:47.125848Z",
     "start_time": "2018-12-31T22:11:43.918971Z"
    }
   },
   "outputs": [],
   "source": [
    "url = urlopen(\"https://api.bcb.gov.br/dados/serie/bcdata.sgs.11/dados?formato=json\").read()\n",
    "soup = BeautifulSoup(url)"
   ]
  },
  {
   "cell_type": "code",
   "execution_count": null,
   "metadata": {
    "ExecuteTime": {
     "end_time": "2018-12-31T22:38:28.381759Z",
     "start_time": "2018-12-31T22:38:24.928004Z"
    }
   },
   "outputs": [],
   "source": [
    "#-- importando a taxa selic diária \n",
    "api = requests.get('https://api.bcb.gov.br/dados/serie/bcdata.sgs.11/dados?formato=json')\n",
    "json = api.json()\n",
    "db = pd.DataFrame(json)\n",
    "for user in json:\n",
    "    print('{0} ({1})'.format(user['data'], user['valor']))"
   ]
  },
  {
   "cell_type": "code",
   "execution_count": null,
   "metadata": {
    "ExecuteTime": {
     "end_time": "2018-12-31T22:11:49.847235Z",
     "start_time": "2018-12-31T22:11:49.823241Z"
    }
   },
   "outputs": [],
   "source": [
    "db"
   ]
  },
  {
   "cell_type": "code",
   "execution_count": null,
   "metadata": {
    "ExecuteTime": {
     "end_time": "2018-12-31T22:11:51.889320Z",
     "start_time": "2018-12-31T22:11:49.851232Z"
    }
   },
   "outputs": [],
   "source": [
    "api = requests.get('https://api.bcb.gov.br/dados/serie/bcdata.sgs.4390/dados?formato=json')\n",
    "\n",
    "json = api.json()\n",
    "\n",
    "db_mes = pd.DataFrame(json)"
   ]
  },
  {
   "cell_type": "code",
   "execution_count": null,
   "metadata": {
    "ExecuteTime": {
     "end_time": "2018-12-31T22:11:51.906605Z",
     "start_time": "2018-12-31T22:11:51.889320Z"
    }
   },
   "outputs": [],
   "source": [
    "db_mes"
   ]
  },
  {
   "cell_type": "markdown",
   "metadata": {
    "ExecuteTime": {
     "end_time": "2018-12-31T22:39:02.813468Z",
     "start_time": "2018-12-31T22:39:02.810452Z"
    }
   },
   "source": [
    "## Cotação Dólar"
   ]
  },
  {
   "cell_type": "code",
   "execution_count": null,
   "metadata": {
    "ExecuteTime": {
     "end_time": "2018-12-31T22:45:40.938750Z",
     "start_time": "2018-12-31T22:45:40.148076Z"
    }
   },
   "outputs": [],
   "source": [
    "dolar = requests.get(\"https://olinda.bcb.gov.br/olinda/servico/PTAX/versao/v1/odata/CotacaoDolarPeriodo(dataInicial=@dataInicial,dataFinalCotacao=@dataFinalCotacao)?@dataInicial='01-01-2000'&@dataFinalCotacao='12-21-2018'&$format=json\")\n",
    "\n",
    "json = dolar.json()\n",
    "\n",
    "db_dolar = pd.DataFrame(json)"
   ]
  },
  {
   "cell_type": "code",
   "execution_count": null,
   "metadata": {
    "ExecuteTime": {
     "end_time": "2018-12-31T22:45:41.789355Z",
     "start_time": "2018-12-31T22:45:41.774361Z"
    }
   },
   "outputs": [],
   "source": [
    "db_dolar.tail()"
   ]
  },
  {
   "cell_type": "code",
   "execution_count": null,
   "metadata": {
    "ExecuteTime": {
     "end_time": "2018-12-31T22:45:51.415051Z",
     "start_time": "2018-12-31T22:45:50.633804Z"
    }
   },
   "outputs": [],
   "source": [
    "for user in db_dolar['value']:\n",
    "    print('{0} ({1})'.format(user['dataHoraCotacao'], user['cotacaoCompra']))"
   ]
  },
  {
   "cell_type": "code",
   "execution_count": null,
   "metadata": {
    "ExecuteTime": {
     "end_time": "2018-12-31T22:45:56.969971Z",
     "start_time": "2018-12-31T22:45:56.941986Z"
    }
   },
   "outputs": [],
   "source": [
    "db_dolar_v = db_dolar.loc[:,'value']\n",
    "db_dolar_v"
   ]
  },
  {
   "cell_type": "code",
   "execution_count": null,
   "metadata": {
    "ExecuteTime": {
     "end_time": "2018-12-31T22:45:57.772791Z",
     "start_time": "2018-12-31T22:45:57.748296Z"
    }
   },
   "outputs": [],
   "source": [
    "db_dolar_c = pd.DataFrame.from_records(db_dolar_v)\n",
    "db_dolar_c.head()"
   ]
  },
  {
   "cell_type": "code",
   "execution_count": null,
   "metadata": {
    "ExecuteTime": {
     "end_time": "2018-12-31T22:45:58.856407Z",
     "start_time": "2018-12-31T22:45:58.841416Z"
    }
   },
   "outputs": [],
   "source": [
    "db_dolar_c.tail()"
   ]
  },
  {
   "cell_type": "code",
   "execution_count": null,
   "metadata": {
    "ExecuteTime": {
     "end_time": "2018-12-31T22:50:32.829859Z",
     "start_time": "2018-12-31T22:46:00.138022Z"
    }
   },
   "outputs": [],
   "source": [
    "sns.lineplot(x=db_dolar_c['dataHoraCotacao'], y=db_dolar_c['cotacaoCompra'])"
   ]
  }
 ],
 "metadata": {
  "kernelspec": {
   "display_name": "Python 3",
   "language": "python",
   "name": "python3"
  },
  "language_info": {
   "codemirror_mode": {
    "name": "ipython",
    "version": 3
   },
   "file_extension": ".py",
   "mimetype": "text/x-python",
   "name": "python",
   "nbconvert_exporter": "python",
   "pygments_lexer": "ipython3",
   "version": "3.7.3"
  }
 },
 "nbformat": 4,
 "nbformat_minor": 4
}
